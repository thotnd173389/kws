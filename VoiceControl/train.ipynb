{
 "cells": [
  {
   "cell_type": "code",
   "execution_count": null,
   "metadata": {
    "colab": {
     "base_uri": "https://localhost:8080/",
     "height": 34
    },
    "colab_type": "code",
    "executionInfo": {
     "elapsed": 232259,
     "status": "ok",
     "timestamp": 1588497505703,
     "user": {
      "displayName": "Thọ Trần Nguyễn Đức",
      "photoUrl": "https://lh3.googleusercontent.com/a-/AOh14GiRnm7y8hqQM3c-nvN9D45g-z0Nr8mAjTMv2NhljA=s64",
      "userId": "00872837065762804423"
     },
     "user_tz": -420
    },
    "id": "WLwB3MUYPOjk",
    "outputId": "c0cd5af2-28d8-4b35-92c2-a0377d621620"
   },
   "outputs": [],
   "source": [
    "# To add a new cell, type '# %%'\n",
    "from kws_streaming.layers.compat import tf\n",
    "from kws_streaming.layers.modes import Modes\n",
    "\n",
    "\n",
    "print(\"Num GPUs Available: \", len(tf.config.experimental.list_physical_devices('GPU')))\n",
    "\n",
    "\n",
    "from datetime import datetime\n",
    "import os.path\n",
    "import pprint\n",
    "import numpy as np\n",
    "import tensorflow.compat.v1 as tf\n",
    "import input_data\n",
    "from kws_streaming.models import utils\n",
    "from DataSettings import DataSettings\n",
    "from TrainingSettings import TrainingSettings\n",
    "from utils import E2E_1stage_v8\n",
    "from utils import E2E_1stage_v9"
   ]
  },
  {
   "cell_type": "code",
   "execution_count": null,
   "metadata": {
    "colab": {
     "base_uri": "https://localhost:8080/",
     "height": 34
    },
    "colab_type": "code",
    "executionInfo": {
     "elapsed": 232251,
     "status": "ok",
     "timestamp": 1588497505704,
     "user": {
      "displayName": "Thọ Trần Nguyễn Đức",
      "photoUrl": "https://lh3.googleusercontent.com/a-/AOh14GiRnm7y8hqQM3c-nvN9D45g-z0Nr8mAjTMv2NhljA=s64",
      "userId": "00872837065762804423"
     },
     "user_tz": -420
    },
    "id": "57cG0kIpROAX",
    "outputId": "804d65ad-0812-4095-bf24-58f2589cacbb"
   },
   "outputs": [],
   "source": [
    "assert tf.__version__ == '2.1.0'"
   ]
  },
  {
   "cell_type": "code",
   "execution_count": null,
   "metadata": {
    "colab": {},
    "colab_type": "code",
    "id": "eLB1blKQPB70"
   },
   "outputs": [],
   "source": [
    "# Start a new TensorFlow session.\n",
    "tf.reset_default_graph()\n",
    "config = tf.ConfigProto()\n",
    "config.gpu_options.allow_growth = True\n",
    "sess = tf.Session(config=config)\n",
    "tf.keras.backend.set_session(sess)\n",
    "\n",
    "sess.run(tf.global_variables_initializer())"
   ]
  },
  {
   "cell_type": "code",
   "execution_count": null,
   "metadata": {
    "colab": {},
    "colab_type": "code",
    "id": "hqe2Vc7EgOUl"
   },
   "outputs": [],
   "source": [
    "# setting data and training\n",
    "data_settings = DataSettings(\n",
    "    window_size_ms = 40.0,\n",
    "    window_stride_ms = 20.0,\n",
    "    dct_num_features = 40,\n",
    "    mel_num_bins = 80,\n",
    "    mel_upper_edge_hertz = 7000,\n",
    "    silence_percentage = 6.0,\n",
    "    unknown_percentage = 6.0,\n",
    "    wanted_words = 'on,off,up,down,zero,one,two,three,four,five,six,seven,eight,nine')\n",
    "training_settings = TrainingSettings()"
   ]
  },
  {
   "cell_type": "code",
   "execution_count": null,
   "metadata": {
    "colab": {},
    "colab_type": "code",
    "id": "qb2mAWBogK3F"
   },
   "outputs": [],
   "source": [
    "time_shift_samples = int((data_settings.time_shift_ms * data_settings.sample_rate) / 1000)"
   ]
  },
  {
   "cell_type": "code",
   "execution_count": null,
   "metadata": {
    "colab": {},
    "colab_type": "code",
    "id": "U0ROG6c-9zag"
   },
   "outputs": [],
   "source": [
    "audio_processor = input_data.AudioProcessor(data_settings)"
   ]
  },
  {
   "cell_type": "code",
   "execution_count": null,
   "metadata": {
    "colab": {
     "base_uri": "https://localhost:8080/",
     "height": 54
    },
    "colab_type": "code",
    "executionInfo": {
     "elapsed": 237999,
     "status": "ok",
     "timestamp": 1588497511482,
     "user": {
      "displayName": "Thọ Trần Nguyễn Đức",
      "photoUrl": "https://lh3.googleusercontent.com/a-/AOh14GiRnm7y8hqQM3c-nvN9D45g-z0Nr8mAjTMv2NhljA=s64",
      "userId": "00872837065762804423"
     },
     "user_tz": -420
    },
    "id": "XgjkXBLlGKRf",
    "outputId": "fb48d878-90cc-44e0-c220-114cdd1e974f"
   },
   "outputs": [],
   "source": [
    "\n",
    "# get training data\n",
    "train_fingerprints, train_ground_truth = audio_processor.get_data(\n",
    "    -1, 0, data_settings, data_settings.background_frequency,\n",
    "    data_settings.background_volume, time_shift_samples, 'training',\n",
    "    data_settings.resample, sess)\n",
    "\n",
    "# get validation data\n",
    "validation_fingerprints, validation_ground_truth = audio_processor.get_data(\n",
    "    -1, 0, data_settings, 0.0, 0.0, 0,\n",
    "    'validation', 0.0, sess)\n",
    "\n"
   ]
  },
  {
   "cell_type": "code",
   "execution_count": null,
   "metadata": {
    "colab": {},
    "colab_type": "code",
    "id": "JvSXxcCaM9S3"
   },
   "outputs": [],
   "source": [
    "print(train_fingerprints.shape)\n",
    "print(validation_fingerprints.shape)"
   ]
  },
  {
   "cell_type": "code",
   "execution_count": null,
   "metadata": {
    "colab": {},
    "colab_type": "code",
    "id": "f-3S37Lz7Wtu"
   },
   "outputs": [],
   "source": [
    "# create model\n",
    "model = E2E_1stage_v9(input_shape=(16000), data_settings=data_settings)\n",
    "\n",
    "model.summary()\n",
    "\n",
    "if not os.path.exists(training_settings.train_dir):\n",
    "    os.mkdir(training_settings.train_dir)\n",
    "if not os.path.exists(os.path.join(training_settings.train_dir, model.name)):\n",
    "    os.mkdir(os.path.join(training_settings.train_dir, model.name))\n",
    "    \n",
    "# save model.summary()\n",
    "utils.save_model_summary(model, training_settings.train_dir + '/' + model.name)"
   ]
  },
  {
   "cell_type": "code",
   "execution_count": null,
   "metadata": {
    "colab": {},
    "colab_type": "code",
    "id": "bSHkcHNPBtNV"
   },
   "outputs": [],
   "source": [
    "save_best_weights = tf.keras.callbacks.ModelCheckpoint(\n",
    "    training_settings.train_dir + '/' + model.name + '/best_weights', \n",
    "    monitor='val_loss',\n",
    "    mode='min', \n",
    "    verbose=0, \n",
    "    save_best_only=True,\n",
    "    save_weights_only=True)"
   ]
  },
  {
   "cell_type": "code",
   "execution_count": null,
   "metadata": {
    "colab": {},
    "colab_type": "code",
    "id": "Qyz-HpbOr9BJ"
   },
   "outputs": [],
   "source": [
    "#compute loss\n",
    "loss = tf.keras.losses.SparseCategoricalCrossentropy(from_logits=True)\n",
    "\n",
    "\n",
    "optimizer = tf.keras.optimizers.Adam(learning_rate = 0.0001, epsilon=1e-08)\n",
    "#optimizer = tf.keras.optimizers.SGD(learning_rate = 0.001)\n",
    "model.compile(optimizer=optimizer, loss=loss, metrics=['accuracy'])\n",
    "\n",
    "logdir = \"logs/scalars/\" + model.name + \"/\" +  datetime.now().strftime(\"%Y%m%d-%H%M%S\")\n",
    "\n",
    "# callbacks functions to use Tensorboard\n",
    "tensorboard_callback = tf.keras.callbacks.TensorBoard(log_dir=logdir)\n"
   ]
  },
  {
   "cell_type": "code",
   "execution_count": null,
   "metadata": {
    "colab": {},
    "colab_type": "code",
    "id": "y3Tk6adpGSZz"
   },
   "outputs": [],
   "source": [
    "# fit model\n",
    "history = model.fit(train_fingerprints, train_ground_truth, \n",
    "          batch_size=50,\n",
    "          validation_data = (validation_fingerprints, validation_ground_truth),\n",
    "          verbose = 2,\n",
    "          callbacks=[tensorboard_callback, save_best_weights],\n",
    "          epochs=2000)\n",
    "# save model\n",
    "model.save_weights(training_settings.train_dir + model.name + '/weights')"
   ]
  },
  {
   "cell_type": "code",
   "execution_count": null,
   "metadata": {
    "colab": {},
    "colab_type": "code",
    "id": "i_KnAWyZ-FqO"
   },
   "outputs": [],
   "source": [
    "model.load_weights(training_settings.train_dir + model.name + '/best_weights')"
   ]
  },
  {
   "cell_type": "code",
   "execution_count": null,
   "metadata": {
    "colab": {},
    "colab_type": "code",
    "id": "Bwf2u2iTwjny"
   },
   "outputs": [],
   "source": [
    "model.evaluate(train_fingerprints, train_ground_truth)"
   ]
  },
  {
   "cell_type": "code",
   "execution_count": null,
   "metadata": {
    "colab": {},
    "colab_type": "code",
    "id": "Fe1r3vRUwla5"
   },
   "outputs": [],
   "source": [
    "model.evaluate(validation_fingerprints, validation_ground_truth)"
   ]
  }
 ],
 "metadata": {
  "accelerator": "GPU",
  "colab": {
   "collapsed_sections": [],
   "machine_shape": "hm",
   "name": "train.ipynb",
   "provenance": []
  },
  "kernelspec": {
   "display_name": "Python 3",
   "language": "python",
   "name": "python3"
  },
  "language_info": {
   "codemirror_mode": {
    "name": "ipython",
    "version": 3
   },
   "file_extension": ".py",
   "mimetype": "text/x-python",
   "name": "python",
   "nbconvert_exporter": "python",
   "pygments_lexer": "ipython3",
   "version": "3.5.2"
  }
 },
 "nbformat": 4,
 "nbformat_minor": 1
}
