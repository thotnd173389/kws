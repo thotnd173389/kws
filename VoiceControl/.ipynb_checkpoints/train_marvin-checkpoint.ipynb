{
 "cells": [
  {
   "cell_type": "code",
   "execution_count": 1,
   "metadata": {
    "colab": {},
    "colab_type": "code",
    "id": "H55Tucy7ZyiQ"
   },
   "outputs": [],
   "source": [
    "#from google.colab import drive\n",
    "#drive.mount('/content/drive')"
   ]
  },
  {
   "cell_type": "code",
   "execution_count": 2,
   "metadata": {
    "colab": {},
    "colab_type": "code",
    "id": "p9WkswwDaBRI"
   },
   "outputs": [],
   "source": [
    "#cd drive/My Drive/project_I"
   ]
  },
  {
   "cell_type": "code",
   "execution_count": 3,
   "metadata": {
    "colab": {},
    "colab_type": "code",
    "id": "Qzxek7ySZMp1"
   },
   "outputs": [],
   "source": [
    "#ls"
   ]
  },
  {
   "cell_type": "code",
   "execution_count": 1,
   "metadata": {
    "colab": {},
    "colab_type": "code",
    "id": "WLwB3MUYPOjk"
   },
   "outputs": [
    {
     "name": "stdout",
     "output_type": "stream",
     "text": [
      "Num GPUs Available:  1\n"
     ]
    }
   ],
   "source": [
    "# To add a new cell, type '# %%'\n",
    "# To add a new markdown cell, type '# %% [markdown]'\n",
    "from kws_streaming.layers.compat import tf\n",
    "from kws_streaming.layers.modes import Modes\n",
    "\n",
    "\n",
    "print(\"Num GPUs Available: \", len(tf.config.experimental.list_physical_devices('GPU')))\n",
    "tf.config.threading.set_intra_op_parallelism_threads(\n",
    "    num_threads = 3\n",
    ")\n",
    "\n",
    "from datetime import datetime\n",
    "import os.path\n",
    "import pprint\n",
    "import numpy as np\n",
    "import tensorflow.compat.v1 as tf\n",
    "import input_data\n",
    "from kws_streaming.models import utils\n",
    "from DataSettings import DataSettings\n",
    "from TrainingSettings import TrainingSettings\n",
    "from utils import keyword_marvin_v1"
   ]
  },
  {
   "cell_type": "code",
   "execution_count": 2,
   "metadata": {
    "colab": {},
    "colab_type": "code",
    "id": "57cG0kIpROAX"
   },
   "outputs": [
    {
     "name": "stdout",
     "output_type": "stream",
     "text": [
      "2.1.0\n"
     ]
    }
   ],
   "source": [
    "print(tf.__version__)"
   ]
  },
  {
   "cell_type": "code",
   "execution_count": 3,
   "metadata": {
    "colab": {},
    "colab_type": "code",
    "id": "eLB1blKQPB70"
   },
   "outputs": [],
   "source": [
    "# Start a new TensorFlow session.\n",
    "tf.reset_default_graph()\n",
    "config = tf.ConfigProto()\n",
    "config.gpu_options.allow_growth = True\n",
    "sess = tf.Session(config=config)\n",
    "tf.keras.backend.set_session(sess)\n",
    "\n",
    "sess.run(tf.global_variables_initializer())"
   ]
  },
  {
   "cell_type": "code",
   "execution_count": 4,
   "metadata": {
    "colab": {},
    "colab_type": "code",
    "id": "hqe2Vc7EgOUl"
   },
   "outputs": [],
   "source": [
    "# setting data and training\n",
    "data_settings = DataSettings(\n",
    "    window_size_ms = 30.0,\n",
    "    window_stride_ms = 10.0,\n",
    "    dct_num_features = 40,\n",
    "    mel_num_bins = 80,\n",
    "    mel_upper_edge_hertz = 7000,\n",
    "    silence_percentage = 300.0,\n",
    "    unknown_percentage = 900.0,\n",
    "    wanted_words = 'marvin')\n",
    "\n",
    "training_settings = TrainingSettings()"
   ]
  },
  {
   "cell_type": "code",
   "execution_count": 5,
   "metadata": {
    "colab": {},
    "colab_type": "code",
    "id": "qb2mAWBogK3F"
   },
   "outputs": [],
   "source": [
    "time_shift_samples = int((data_settings.time_shift_ms * data_settings.sample_rate) / 1000)"
   ]
  },
  {
   "cell_type": "markdown",
   "metadata": {
    "colab_type": "text",
    "id": "DZEK5siI7uDG"
   },
   "source": []
  },
  {
   "cell_type": "code",
   "execution_count": 6,
   "metadata": {},
   "outputs": [],
   "source": [
    "audio_processor = input_data.AudioProcessor(data_settings)"
   ]
  },
  {
   "cell_type": "code",
   "execution_count": 7,
   "metadata": {
    "colab": {},
    "colab_type": "code",
    "id": "XgjkXBLlGKRf"
   },
   "outputs": [],
   "source": [
    "\n",
    "# get training data\n",
    "train_fingerprints, train_ground_truth = audio_processor.get_data(\n",
    "    -1, 0, data_settings, data_settings.background_frequency,\n",
    "    data_settings.background_volume, time_shift_samples, 'training',\n",
    "    data_settings.resample, sess)\n",
    "\n",
    "# get validation data\n",
    "validation_fingerprints, validation_ground_truth = audio_processor.get_data(\n",
    "    -1, 0, data_settings, 0.0, 0.0, 0,\n",
    "    'validation', 0.0, sess)\n",
    "\n",
    "# get test data\n",
    "test_fingerprints, test_ground_truth = audio_processor.get_data(\n",
    "    -1, 0, data_settings, 0.0, 0.0, 0,\n",
    "    'testing', 0.0, sess)\n"
   ]
  },
  {
   "cell_type": "code",
   "execution_count": 8,
   "metadata": {},
   "outputs": [],
   "source": [
    "with tf.io.gfile.GFile(os.path.join(training_settings.train_dir, 'labels.txt'), 'w') as f:\n",
    "    f.write('\\n'.join(audio_processor.words_list))\n"
   ]
  },
  {
   "cell_type": "code",
   "execution_count": 9,
   "metadata": {
    "colab": {},
    "colab_type": "code",
    "id": "JvSXxcCaM9S3"
   },
   "outputs": [
    {
     "name": "stdout",
     "output_type": "stream",
     "text": [
      "(11970, 16000)\n",
      "(1365, 16000)\n",
      "(1365, 16000)\n"
     ]
    }
   ],
   "source": [
    "print(train_fingerprints.shape)\n",
    "print(validation_fingerprints.shape)\n",
    "print(test_fingerprints.shape)"
   ]
  },
  {
   "cell_type": "code",
   "execution_count": 10,
   "metadata": {},
   "outputs": [
    {
     "data": {
      "text/plain": [
       "Counter({1.0: 5130, 0.0: 5130, 2.0: 1710})"
      ]
     },
     "execution_count": 10,
     "metadata": {},
     "output_type": "execute_result"
    }
   ],
   "source": [
    "import collections\n",
    "collections.Counter(train_ground_truth)"
   ]
  },
  {
   "cell_type": "code",
   "execution_count": 11,
   "metadata": {},
   "outputs": [
    {
     "data": {
      "text/plain": [
       "3"
      ]
     },
     "execution_count": 11,
     "metadata": {},
     "output_type": "execute_result"
    }
   ],
   "source": [
    "data_settings.label_count"
   ]
  },
  {
   "cell_type": "code",
   "execution_count": 12,
   "metadata": {
    "colab": {},
    "colab_type": "code",
    "id": "f-3S37Lz7Wtu"
   },
   "outputs": [
    {
     "name": "stdout",
     "output_type": "stream",
     "text": [
      "WARNING:tensorflow:From /home/thorisus/anaconda3/envs/tensorflow-gpu/lib/python3.6/site-packages/tensorflow_core/python/ops/resource_variable_ops.py:1635: calling BaseResourceVariable.__init__ (from tensorflow.python.ops.resource_variable_ops) with constraint is deprecated and will be removed in a future version.\n",
      "Instructions for updating:\n",
      "If using Keras pass *_constraint arguments to layers.\n",
      "Model: \"keyword_marvin_v1\"\n",
      "_________________________________________________________________\n",
      "Layer (type)                 Output Shape              Param #   \n",
      "=================================================================\n",
      "input_1 (InputLayer)         [(None, 16000)]           0         \n",
      "_________________________________________________________________\n",
      "speech_features (SpeechFeatu (None, 98, 40)            0         \n",
      "_________________________________________________________________\n",
      "svdf_1 (Svdf)                (None, 91, 32)            7808      \n",
      "_________________________________________________________________\n",
      "svdf_2 (Svdf)                (None, 84, 32)            7040      \n",
      "_________________________________________________________________\n",
      "svdf_3 (Svdf)                (None, 77, 32)            7040      \n",
      "_________________________________________________________________\n",
      "svdf_4 (Svdf)                (None, 46, 32)            2080      \n",
      "_________________________________________________________________\n",
      "svdf_5 (Svdf)                (None, 15, 32)            2080      \n",
      "_________________________________________________________________\n",
      "stream (Stream)              (None, 480)               0         \n",
      "_________________________________________________________________\n",
      "dropout (Dropout)            (None, 480)               0         \n",
      "_________________________________________________________________\n",
      "dense_8 (Dense)              (None, 3)                 1443      \n",
      "=================================================================\n",
      "Total params: 27,491\n",
      "Trainable params: 27,491\n",
      "Non-trainable params: 0\n",
      "_________________________________________________________________\n"
     ]
    }
   ],
   "source": [
    "# create model\n",
    "model = keyword_marvin_v1(input_shape=(16000), data_settings=data_settings)\n",
    "\n",
    "model.summary()\n",
    "# Save graph.pbtxt.\n",
    "tf.train.write_graph(sess.graph_def, training_settings.train_dir + '/' + model.name, 'graph.pbtxt')\n",
    "\n",
    "if not os.path.exists(training_settings.train_dir):\n",
    "    os.mkdir(training_settings.train_dir)\n",
    "if not os.path.exists(os.path.join(training_settings.train_dir, model.name)):\n",
    "    os.mkdir(os.path.join(training_settings.train_dir, model.name))\n",
    "    \n",
    "# save model.summary()\n",
    "utils.save_model_summary(model, training_settings.train_dir + '/' + model.name)"
   ]
  },
  {
   "cell_type": "code",
   "execution_count": 13,
   "metadata": {
    "colab": {},
    "colab_type": "code",
    "id": "bSHkcHNPBtNV"
   },
   "outputs": [],
   "source": [
    "save_best_weights = tf.keras.callbacks.ModelCheckpoint(\n",
    "    training_settings.train_dir + '/' + model.name + '/best_weights', \n",
    "    monitor='val_loss',\n",
    "    mode='min', \n",
    "    verbose=0, \n",
    "    save_best_only=True,\n",
    "    save_weights_only=True)"
   ]
  },
  {
   "cell_type": "code",
   "execution_count": 14,
   "metadata": {
    "colab": {},
    "colab_type": "code",
    "id": "Qyz-HpbOr9BJ"
   },
   "outputs": [],
   "source": [
    "#compute loss\n",
    "loss = tf.keras.losses.SparseCategoricalCrossentropy(from_logits=True)\n",
    "\n",
    "\n",
    "optimizer = tf.keras.optimizers.Adam(learning_rate = 0.0001, epsilon=1e-08)\n",
    "#optimizer = tf.keras.optimizers.SGD(learning_rate = 0.001)\n",
    "model.compile(optimizer=optimizer, loss=loss, metrics=['accuracy'])\n",
    "\n",
    "logdir = \"logs/scalars/\" + model.name + \"/\" +  datetime.now().strftime(\"%Y%m%d-%H%M%S\")\n",
    "\n",
    "# callbacks functions to use Tensorboard\n",
    "tensorboard_callback = tf.keras.callbacks.TensorBoard(log_dir=logdir)\n"
   ]
  },
  {
   "cell_type": "code",
   "execution_count": null,
   "metadata": {
    "colab": {},
    "colab_type": "code",
    "id": "y3Tk6adpGSZz"
   },
   "outputs": [],
   "source": [
    "# fit model\n",
    "history = model.fit(train_fingerprints, train_ground_truth, \n",
    "          batch_size=100,\n",
    "          validation_data = (validation_fingerprints, validation_ground_truth),\n",
    "          verbose = 2,\n",
    "          callbacks=[tensorboard_callback, save_best_weights],\n",
    "          epochs=100)\n",
    "# save model\n",
    "model.save_weights(training_settings.train_dir + '/' + model.name + '/weights')"
   ]
  },
  {
   "cell_type": "code",
   "execution_count": 9,
   "metadata": {
    "colab": {},
    "colab_type": "code",
    "id": "i_KnAWyZ-FqO"
   },
   "outputs": [
    {
     "data": {
      "text/plain": [
       "<tensorflow.python.training.tracking.util.CheckpointLoadStatus at 0x7f913c2c0f90>"
      ]
     },
     "execution_count": 9,
     "metadata": {},
     "output_type": "execute_result"
    }
   ],
   "source": [
    "model.load_weights(training_settings.train_dir + '/' + model.name + '/best_weights')"
   ]
  },
  {
   "cell_type": "code",
   "execution_count": 12,
   "metadata": {
    "colab": {},
    "colab_type": "code",
    "id": "KI7znbeq9zyR"
   },
   "outputs": [
    {
     "name": "stdout",
     "output_type": "stream",
     "text": [
      "3055/3055 [==============================] - 11s 4ms/sample - loss: 0.2706 - accuracy: 0.9201\n"
     ]
    },
    {
     "data": {
      "text/plain": [
       "[0.2705681638783012, 0.9201309]"
      ]
     },
     "execution_count": 12,
     "metadata": {},
     "output_type": "execute_result"
    }
   ],
   "source": [
    "model.evaluate(test_fingerprints, test_ground_truth)"
   ]
  },
  {
   "cell_type": "code",
   "execution_count": 13,
   "metadata": {
    "colab": {},
    "colab_type": "code",
    "id": "Bwf2u2iTwjny"
   },
   "outputs": [
    {
     "name": "stdout",
     "output_type": "stream",
     "text": [
      "25774/25774 [==============================] - 109s 4ms/sample - loss: 0.2160 - accuracy: 0.9271\n"
     ]
    },
    {
     "data": {
      "text/plain": [
       "[0.21596403904343037, 0.9270583]"
      ]
     },
     "execution_count": 13,
     "metadata": {},
     "output_type": "execute_result"
    }
   ],
   "source": [
    "model.evaluate(train_fingerprints, train_ground_truth)"
   ]
  },
  {
   "cell_type": "code",
   "execution_count": 14,
   "metadata": {
    "colab": {},
    "colab_type": "code",
    "id": "Fe1r3vRUwla5"
   },
   "outputs": [
    {
     "name": "stdout",
     "output_type": "stream",
     "text": [
      "3055/3055 [==============================] - 11s 4ms/sample - loss: 0.2786 - accuracy: 0.9165\n"
     ]
    },
    {
     "data": {
      "text/plain": [
       "[0.27860741713335785, 0.91653025]"
      ]
     },
     "execution_count": 14,
     "metadata": {},
     "output_type": "execute_result"
    }
   ],
   "source": [
    "model.evaluate(validation_fingerprints, validation_ground_truth)"
   ]
  },
  {
   "cell_type": "code",
   "execution_count": 15,
   "metadata": {
    "colab": {},
    "colab_type": "code",
    "id": "i19Q72dIwpaZ"
   },
   "outputs": [
    {
     "name": "stdout",
     "output_type": "stream",
     "text": [
      "Failed to import pydot. You must install pydot and graphviz for `pydotprint` to work.\n"
     ]
    }
   ],
   "source": [
    "tf.keras.utils.plot_model(\n",
    "    model,\n",
    "    show_shapes=True,\n",
    "    show_layer_names=True,\n",
    "    expand_nested=True)"
   ]
  },
  {
   "cell_type": "code",
   "execution_count": null,
   "metadata": {},
   "outputs": [],
   "source": []
  }
 ],
 "metadata": {
  "accelerator": "GPU",
  "colab": {
   "collapsed_sections": [],
   "name": "train.ipynb",
   "provenance": []
  },
  "kernelspec": {
   "display_name": "Python 3",
   "language": "python",
   "name": "python3"
  },
  "language_info": {
   "codemirror_mode": {
    "name": "ipython",
    "version": 3
   },
   "file_extension": ".py",
   "mimetype": "text/x-python",
   "name": "python",
   "nbconvert_exporter": "python",
   "pygments_lexer": "ipython3",
   "version": "3.5.2"
  }
 },
 "nbformat": 4,
 "nbformat_minor": 1
}
