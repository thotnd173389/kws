{
 "cells": [
  {
   "cell_type": "code",
   "execution_count": 1,
   "metadata": {
    "colab": {},
    "colab_type": "code",
    "id": "spVuP6c-sfxI"
   },
   "outputs": [],
   "source": [
    "from kws_streaming.layers.compat import tf\n",
    "from kws_streaming.layers.modes import Modes\n",
    "from kws_streaming.layers import svdf\n",
    "from kws_streaming.layers import speech_features\n",
    "from kws_streaming.layers.stream import Stream\n",
    "from tensorflow.keras.models import model_from_json\n",
    "from kws_streaming.models import utils\n",
    "from utils import keyword_marvin_v1\n",
    "from utils import keyword_marvin_v2\n",
    "\n",
    "import numpy as np\n",
    "import os\n",
    "from datetime import datetime"
   ]
  },
  {
   "cell_type": "code",
   "execution_count": null,
   "metadata": {
    "colab": {},
    "colab_type": "code",
    "id": "Lc187Maysfxl"
   },
   "outputs": [],
   "source": [
    "X_train = np.load('x_train.npy')\n",
    "Y_train = np.load('y_train.npy')\n",
    "X_test = np.load('x_test.npy')\n",
    "Y_test = np.load('y_test.npy')"
   ]
  },
  {
   "cell_type": "code",
   "execution_count": 2,
   "metadata": {
    "colab": {},
    "colab_type": "code",
    "id": "3tYU8Dh8fBuc"
   },
   "outputs": [
    {
     "name": "stdout",
     "output_type": "stream",
     "text": [
      "WARNING:tensorflow:From /home/thorius/anaconda3/lib/python3.7/site-packages/tensorflow_core/python/ops/resource_variable_ops.py:1635: calling BaseResourceVariable.__init__ (from tensorflow.python.ops.resource_variable_ops) with constraint is deprecated and will be removed in a future version.\n",
      "Instructions for updating:\n",
      "If using Keras pass *_constraint arguments to layers.\n"
     ]
    }
   ],
   "source": [
    "model = keyword_marvin_v2(dropout = 0.)"
   ]
  },
  {
   "cell_type": "code",
   "execution_count": 3,
   "metadata": {
    "colab": {
     "base_uri": "https://localhost:8080/",
     "height": 425
    },
    "colab_type": "code",
    "executionInfo": {
     "elapsed": 12737,
     "status": "ok",
     "timestamp": 1588651323559,
     "user": {
      "displayName": "Phạm Hoàng",
      "photoUrl": "https://lh3.googleusercontent.com/a-/AOh14GhvPKEtoEy-JH4a83yf9StEpkBxMx845z-LsQIHsg=s64",
      "userId": "06541450529546033768"
     },
     "user_tz": -420
    },
    "id": "mY2N9ttTgaX7",
    "outputId": "fc5c0fc9-2780-477a-e2cd-3b19a0da34ea"
   },
   "outputs": [
    {
     "name": "stdout",
     "output_type": "stream",
     "text": [
      "Model: \"keyword_marvin_v2\"\n",
      "_________________________________________________________________\n",
      "Layer (type)                 Output Shape              Param #   \n",
      "=================================================================\n",
      "input_1 (InputLayer)         [(None, 48000)]           0         \n",
      "_________________________________________________________________\n",
      "speech_features (SpeechFeatu (None, 298, 40)           0         \n",
      "_________________________________________________________________\n",
      "svdf_1 (Svdf)                (None, 298, 32)           10400     \n",
      "_________________________________________________________________\n",
      "svdf_2 (Svdf)                (None, 298, 32)           7040      \n",
      "_________________________________________________________________\n",
      "svdf_3 (Svdf)                (None, 298, 32)           7040      \n",
      "_________________________________________________________________\n",
      "svdf_4 (Svdf)                (None, 298, 32)           2080      \n",
      "_________________________________________________________________\n",
      "svdf_5 (Svdf)                (None, 298, 32)           2080      \n",
      "_________________________________________________________________\n",
      "dropout (Dropout)            (None, 298, 32)           0         \n",
      "_________________________________________________________________\n",
      "dense_8 (Dense)              (None, 298, 1)            33        \n",
      "=================================================================\n",
      "Total params: 28,673\n",
      "Trainable params: 28,673\n",
      "Non-trainable params: 0\n",
      "_________________________________________________________________\n"
     ]
    }
   ],
   "source": [
    "model.summary()"
   ]
  },
  {
   "cell_type": "code",
   "execution_count": 6,
   "metadata": {
    "colab": {},
    "colab_type": "code",
    "id": "tCr21D7NxV3g"
   },
   "outputs": [],
   "source": [
    "train_dir = './training'"
   ]
  },
  {
   "cell_type": "code",
   "execution_count": 7,
   "metadata": {
    "colab": {
     "base_uri": "https://localhost:8080/",
     "height": 54
    },
    "colab_type": "code",
    "executionInfo": {
     "elapsed": 1196,
     "status": "ok",
     "timestamp": 1588651327086,
     "user": {
      "displayName": "Phạm Hoàng",
      "photoUrl": "https://lh3.googleusercontent.com/a-/AOh14GhvPKEtoEy-JH4a83yf9StEpkBxMx845z-LsQIHsg=s64",
      "userId": "06541450529546033768"
     },
     "user_tz": -420
    },
    "id": "29IR4yRGxzIw",
    "outputId": "a8a3613d-c708-40f0-d3cb-3d79f8ff2a11"
   },
   "outputs": [],
   "source": [
    "path_model = train_dir + '/' + model.name\n",
    "if not os.path.exists(path_model):\n",
    "    os.makedirs(path_model)\n",
    "\n",
    "# serialize model to JSON\n",
    "model_json = model.to_json()\n",
    "\n",
    "\n",
    "with open(os.path.join(path_model, \"model.json\"), \"w\") as json_file:\n",
    "    json_file.write(model_json)\n"
   ]
  },
  {
   "cell_type": "code",
   "execution_count": 8,
   "metadata": {
    "colab": {
     "base_uri": "https://localhost:8080/",
     "height": 425
    },
    "colab_type": "code",
    "executionInfo": {
     "elapsed": 1893,
     "status": "ok",
     "timestamp": 1588651330385,
     "user": {
      "displayName": "Phạm Hoàng",
      "photoUrl": "https://lh3.googleusercontent.com/a-/AOh14GhvPKEtoEy-JH4a83yf9StEpkBxMx845z-LsQIHsg=s64",
      "userId": "06541450529546033768"
     },
     "user_tz": -420
    },
    "id": "CDrDiICSw1OQ",
    "outputId": "2ad85db5-99bd-482c-f6bb-0f10115f6c9d"
   },
   "outputs": [
    {
     "name": "stdout",
     "output_type": "stream",
     "text": [
      "Model: \"keyword_marvin_v2\"\n",
      "_________________________________________________________________\n",
      "Layer (type)                 Output Shape              Param #   \n",
      "=================================================================\n",
      "input_1 (InputLayer)         [(None, 48000)]           0         \n",
      "_________________________________________________________________\n",
      "speech_features (SpeechFeatu (None, 298, 40)           0         \n",
      "_________________________________________________________________\n",
      "svdf_1 (Svdf)                (None, 298, 32)           10400     \n",
      "_________________________________________________________________\n",
      "svdf_2 (Svdf)                (None, 298, 32)           7040      \n",
      "_________________________________________________________________\n",
      "svdf_3 (Svdf)                (None, 298, 32)           7040      \n",
      "_________________________________________________________________\n",
      "svdf_4 (Svdf)                (None, 298, 32)           2080      \n",
      "_________________________________________________________________\n",
      "svdf_5 (Svdf)                (None, 298, 32)           2080      \n",
      "_________________________________________________________________\n",
      "dropout (Dropout)            (None, 298, 32)           0         \n",
      "_________________________________________________________________\n",
      "dense_8 (Dense)              (None, 298, 1)            33        \n",
      "=================================================================\n",
      "Total params: 28,673\n",
      "Trainable params: 28,673\n",
      "Non-trainable params: 0\n",
      "_________________________________________________________________\n"
     ]
    }
   ],
   "source": [
    "model.summary()\n",
    "\n",
    "if not os.path.exists(train_dir):\n",
    "    os.mkdir(train_dir)\n",
    "if not os.path.exists(os.path.join(train_dir, model.name)):\n",
    "    os.mkdir(os.path.join(train_dir, model.name))\n",
    "    \n",
    "# save model.summary()\n",
    "utils.save_model_summary(model, train_dir + '/' + model.name)"
   ]
  },
  {
   "cell_type": "code",
   "execution_count": null,
   "metadata": {
    "colab": {},
    "colab_type": "code",
    "id": "J-KYoJY5w1Hd"
   },
   "outputs": [],
   "source": [
    "save_best_weights = tf.keras.callbacks.ModelCheckpoint(\n",
    "    train_dir + '/' + model.name + '/best_weights', \n",
    "    monitor='val_loss',\n",
    "    mode='min', \n",
    "    verbose=0, \n",
    "    save_best_only=True,\n",
    "    save_weights_only=True)\n",
    "\n",
    "\n",
    "logdir = \"logs/scalars/\" + model.name + \"/\" +  datetime.now().strftime(\"%Y%m%d-%H%M%S\")\n",
    "\n",
    "# callbacks functions to use Tensorboard\n",
    "tensorboard_callback = tf.keras.callbacks.TensorBoard(log_dir=logdir)"
   ]
  },
  {
   "cell_type": "code",
   "execution_count": null,
   "metadata": {
    "colab": {
     "base_uri": "https://localhost:8080/",
     "height": 1000
    },
    "colab_type": "code",
    "executionInfo": {
     "elapsed": 1380266,
     "status": "ok",
     "timestamp": 1588652713388,
     "user": {
      "displayName": "Phạm Hoàng",
      "photoUrl": "https://lh3.googleusercontent.com/a-/AOh14GhvPKEtoEy-JH4a83yf9StEpkBxMx845z-LsQIHsg=s64",
      "userId": "06541450529546033768"
     },
     "user_tz": -420
    },
    "id": "R-nKlj9isfyh",
    "outputId": "17e5d722-a3bc-4e8b-f477-5e4823747bc1"
   },
   "outputs": [],
   "source": [
    "\n",
    "loss = tf.keras.losses.BinaryCrossentropy()\n",
    "optimizer = tf.keras.optimizers.Adam(learning_rate = 0.0001, epsilon=1e-08)\n",
    "model.compile(optimizer=optimizer, loss=loss, metrics=['accuracy'])\n",
    "\n",
    "\n",
    "\n",
    "model.fit(X_train, Y_train, \n",
    "          validation_data = (X_test, Y_test),\n",
    "          batch_size = 50, \n",
    "          verbose = 2,\n",
    "          callbacks=[tensorboard_callback, save_best_weights],\n",
    "          epochs = 70)\n",
    "\n",
    "model.save_weights(train_dir + '/weights')"
   ]
  },
  {
   "cell_type": "code",
   "execution_count": null,
   "metadata": {
    "colab": {},
    "colab_type": "code",
    "id": "m532xECx-Vtm"
   },
   "outputs": [],
   "source": [
    "model.evaluate(X_test, Y_test)"
   ]
  },
  {
   "cell_type": "code",
   "execution_count": null,
   "metadata": {
    "colab": {},
    "colab_type": "code",
    "id": "rdJj246i_jAl"
   },
   "outputs": [],
   "source": [
    "model.evaluate(X_train, Y_train)"
   ]
  },
  {
   "cell_type": "code",
   "execution_count": null,
   "metadata": {
    "colab": {},
    "colab_type": "code",
    "id": "pusDoEiK_nkP"
   },
   "outputs": [],
   "source": []
  }
 ],
 "metadata": {
  "accelerator": "GPU",
  "colab": {
   "collapsed_sections": [],
   "name": "train.ipynb",
   "provenance": []
  },
  "kernelspec": {
   "display_name": "Python 3",
   "language": "python",
   "name": "python3"
  },
  "language_info": {
   "codemirror_mode": {
    "name": "ipython",
    "version": 3
   },
   "file_extension": ".py",
   "mimetype": "text/x-python",
   "name": "python",
   "nbconvert_exporter": "python",
   "pygments_lexer": "ipython3",
   "version": "3.7.6"
  }
 },
 "nbformat": 4,
 "nbformat_minor": 1
}
